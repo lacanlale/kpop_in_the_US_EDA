{
 "cells": [
  {
   "cell_type": "markdown",
   "metadata": {},
   "source": [
    "## Data Notes:\n",
    "Most if not all data has been manually collected and added to CSV's/TXT's and transformed for the purpose of this analysis\n",
    "- Song lyrics sourced from: [Genius](https://genius.com/artists/Newjeans)\n",
    "- Billboard Hot 100 position sourced from: [https://www.billboard.com/artist/newjeans/chart-history/hsi/](https://www.billboard.com/artist/newjeans/chart-history/hsi/)\n",
    "- Spotify streaming totals sourced from: [https://kworb.net/spotify/country/us_weekly_totals.html](https://kworb.net/spotify/country/us_weekly_totals.html)"
   ]
  },
  {
   "cell_type": "code",
   "execution_count": 4,
   "metadata": {
    "ExecuteTime": {
     "end_time": "2023-08-20T21:40:26.949816Z",
     "start_time": "2023-08-20T21:40:26.109548Z"
    }
   },
   "outputs": [],
   "source": [
    "import pandas as pd\n",
    "import seaborn as sns\n",
    "import matplotlib.pyplot as plt\n",
    "import numpy as np"
   ]
  },
  {
   "cell_type": "code",
   "execution_count": 31,
   "metadata": {
    "ExecuteTime": {
     "end_time": "2023-08-20T22:07:52.166929Z",
     "start_time": "2023-08-20T22:07:52.161287Z"
    }
   },
   "outputs": [],
   "source": [
    "import os\n",
    "import re\n",
    "from typing import List, Tuple"
   ]
  },
  {
   "cell_type": "code",
   "execution_count": null,
   "metadata": {},
   "outputs": [],
   "source": [
    "%matplotlib inline"
   ]
  },
  {
   "cell_type": "code",
   "execution_count": 33,
   "metadata": {
    "ExecuteTime": {
     "end_time": "2023-08-20T22:08:08.813426Z",
     "start_time": "2023-08-20T22:08:08.804964Z"
    }
   },
   "outputs": [],
   "source": [
    "def split_text_into_languages(text: str) -> Tuple[List[str], List[str]]:\n",
    "    \"\"\"\n",
    "    Splits a mixed-language text into separate lists of English and Korean words.\n",
    "\n",
    "    Args:\n",
    "        text (str): The input mixed-language (Korean and English) text.\n",
    "\n",
    "    Returns:\n",
    "        Tuple[List[str], List[str]]: A tuple containing two lists of words,\n",
    "        where the first list contains English words and the second list contains Korean words.\n",
    "    \"\"\"\n",
    "    english_words = re.findall(r'\\b[a-zA-Z]+\\b', text)\n",
    "    korean_words = re.findall(r'\\b[가-힣]+\\b', text)\n",
    "    return english_words, korean_words"
   ]
  },
  {
   "cell_type": "code",
   "execution_count": 44,
   "metadata": {
    "ExecuteTime": {
     "end_time": "2023-08-20T22:17:35.821804Z",
     "start_time": "2023-08-20T22:17:35.792587Z"
    }
   },
   "outputs": [],
   "source": [
    "raw_data = []\n",
    "for song in os.listdir(\"data/\"):\n",
    "    total_english_words = 0\n",
    "    total_korean_words = 0\n",
    "    with open(f\"data/{song}\") as f:\n",
    "        while True:\n",
    "            line = f.readline()\n",
    "            if not line:\n",
    "                break\n",
    "            if \"[\" in line or \"]\" in line:\n",
    "                continue\n",
    "            eng_words, kor_words = split_text_into_languages(line)\n",
    "            total_english_words += len(eng_words)\n",
    "            total_korean_words += len(kor_words)\n",
    "    raw_data.append({\n",
    "        \"song_name\": song[:song.index(\".\")].replace(\"_\", \" \").title(),\n",
    "        \"total_english_words\": total_english_words,\n",
    "        \"total_korean_words\": total_korean_words,\n",
    "        \"overall_total\": sum([total_english_words, total_korean_words])\n",
    "    })"
   ]
  },
  {
   "cell_type": "code",
   "execution_count": 48,
   "metadata": {
    "ExecuteTime": {
     "end_time": "2023-08-20T22:18:29.328034Z",
     "start_time": "2023-08-20T22:18:29.317615Z"
    }
   },
   "outputs": [
    {
     "data": {
      "text/html": [
       "<div>\n",
       "<style scoped>\n",
       "    .dataframe tbody tr th:only-of-type {\n",
       "        vertical-align: middle;\n",
       "    }\n",
       "\n",
       "    .dataframe tbody tr th {\n",
       "        vertical-align: top;\n",
       "    }\n",
       "\n",
       "    .dataframe thead th {\n",
       "        text-align: right;\n",
       "    }\n",
       "</style>\n",
       "<table border=\"1\" class=\"dataframe\">\n",
       "  <thead>\n",
       "    <tr style=\"text-align: right;\">\n",
       "      <th></th>\n",
       "      <th>song_name</th>\n",
       "      <th>total_english_words</th>\n",
       "      <th>total_korean_words</th>\n",
       "      <th>overall_total</th>\n",
       "    </tr>\n",
       "  </thead>\n",
       "  <tbody>\n",
       "    <tr>\n",
       "      <th>0</th>\n",
       "      <td>Super Shy</td>\n",
       "      <td>355</td>\n",
       "      <td>30</td>\n",
       "      <td>385</td>\n",
       "    </tr>\n",
       "    <tr>\n",
       "      <th>1</th>\n",
       "      <td>Hype Boy</td>\n",
       "      <td>268</td>\n",
       "      <td>91</td>\n",
       "      <td>359</td>\n",
       "    </tr>\n",
       "    <tr>\n",
       "      <th>2</th>\n",
       "      <td>New Jeans</td>\n",
       "      <td>181</td>\n",
       "      <td>19</td>\n",
       "      <td>200</td>\n",
       "    </tr>\n",
       "    <tr>\n",
       "      <th>3</th>\n",
       "      <td>Zero</td>\n",
       "      <td>267</td>\n",
       "      <td>79</td>\n",
       "      <td>346</td>\n",
       "    </tr>\n",
       "    <tr>\n",
       "      <th>4</th>\n",
       "      <td>Ditto</td>\n",
       "      <td>233</td>\n",
       "      <td>69</td>\n",
       "      <td>302</td>\n",
       "    </tr>\n",
       "    <tr>\n",
       "      <th>5</th>\n",
       "      <td>Get Up</td>\n",
       "      <td>49</td>\n",
       "      <td>0</td>\n",
       "      <td>49</td>\n",
       "    </tr>\n",
       "    <tr>\n",
       "      <th>6</th>\n",
       "      <td>Cookie</td>\n",
       "      <td>154</td>\n",
       "      <td>188</td>\n",
       "      <td>342</td>\n",
       "    </tr>\n",
       "    <tr>\n",
       "      <th>7</th>\n",
       "      <td>Asap</td>\n",
       "      <td>598</td>\n",
       "      <td>14</td>\n",
       "      <td>612</td>\n",
       "    </tr>\n",
       "    <tr>\n",
       "      <th>8</th>\n",
       "      <td>Cool With You</td>\n",
       "      <td>166</td>\n",
       "      <td>39</td>\n",
       "      <td>205</td>\n",
       "    </tr>\n",
       "    <tr>\n",
       "      <th>9</th>\n",
       "      <td>Omg</td>\n",
       "      <td>375</td>\n",
       "      <td>140</td>\n",
       "      <td>515</td>\n",
       "    </tr>\n",
       "    <tr>\n",
       "      <th>10</th>\n",
       "      <td>Hurt</td>\n",
       "      <td>156</td>\n",
       "      <td>94</td>\n",
       "      <td>250</td>\n",
       "    </tr>\n",
       "    <tr>\n",
       "      <th>11</th>\n",
       "      <td>Eta</td>\n",
       "      <td>229</td>\n",
       "      <td>89</td>\n",
       "      <td>318</td>\n",
       "    </tr>\n",
       "    <tr>\n",
       "      <th>12</th>\n",
       "      <td>Attention</td>\n",
       "      <td>241</td>\n",
       "      <td>76</td>\n",
       "      <td>317</td>\n",
       "    </tr>\n",
       "  </tbody>\n",
       "</table>\n",
       "</div>"
      ],
      "text/plain": [
       "        song_name  total_english_words  total_korean_words  overall_total\n",
       "0       Super Shy                  355                  30            385\n",
       "1        Hype Boy                  268                  91            359\n",
       "2       New Jeans                  181                  19            200\n",
       "3            Zero                  267                  79            346\n",
       "4           Ditto                  233                  69            302\n",
       "5          Get Up                   49                   0             49\n",
       "6          Cookie                  154                 188            342\n",
       "7            Asap                  598                  14            612\n",
       "8   Cool With You                  166                  39            205\n",
       "9             Omg                  375                 140            515\n",
       "10           Hurt                  156                  94            250\n",
       "11            Eta                  229                  89            318\n",
       "12      Attention                  241                  76            317"
      ]
     },
     "execution_count": 48,
     "metadata": {},
     "output_type": "execute_result"
    }
   ],
   "source": [
    "df = pd.DataFrame.from_records(raw_data)\n",
    "df.head(13)"
   ]
  },
  {
   "cell_type": "code",
   "execution_count": 65,
   "metadata": {
    "ExecuteTime": {
     "end_time": "2023-08-20T23:58:55.646705Z",
     "start_time": "2023-08-20T23:58:55.615435Z"
    }
   },
   "outputs": [
    {
     "data": {
      "text/html": [
       "<div>\n",
       "<style scoped>\n",
       "    .dataframe tbody tr th:only-of-type {\n",
       "        vertical-align: middle;\n",
       "    }\n",
       "\n",
       "    .dataframe tbody tr th {\n",
       "        vertical-align: top;\n",
       "    }\n",
       "\n",
       "    .dataframe thead th {\n",
       "        text-align: right;\n",
       "    }\n",
       "</style>\n",
       "<table border=\"1\" class=\"dataframe\">\n",
       "  <thead>\n",
       "    <tr style=\"text-align: right;\">\n",
       "      <th></th>\n",
       "      <th>song_name</th>\n",
       "      <th>debut_date</th>\n",
       "      <th>peak_pos</th>\n",
       "      <th>peak_date</th>\n",
       "      <th>wks_on_chrt</th>\n",
       "    </tr>\n",
       "  </thead>\n",
       "  <tbody>\n",
       "    <tr>\n",
       "      <th>0</th>\n",
       "      <td>OMG</td>\n",
       "      <td>01/28/23</td>\n",
       "      <td>74</td>\n",
       "      <td>02/18/23</td>\n",
       "      <td>6</td>\n",
       "    </tr>\n",
       "    <tr>\n",
       "      <th>1</th>\n",
       "      <td>Super Shy</td>\n",
       "      <td>07/22/23</td>\n",
       "      <td>48</td>\n",
       "      <td>08/05/23</td>\n",
       "      <td>5</td>\n",
       "    </tr>\n",
       "    <tr>\n",
       "      <th>2</th>\n",
       "      <td>Ditto</td>\n",
       "      <td>01/21/23</td>\n",
       "      <td>82</td>\n",
       "      <td>02/18/23</td>\n",
       "      <td>5</td>\n",
       "    </tr>\n",
       "    <tr>\n",
       "      <th>3</th>\n",
       "      <td>ETA</td>\n",
       "      <td>08/05/23</td>\n",
       "      <td>81</td>\n",
       "      <td>08/05/23</td>\n",
       "      <td>1</td>\n",
       "    </tr>\n",
       "    <tr>\n",
       "      <th>4</th>\n",
       "      <td>Cool With You</td>\n",
       "      <td>08/05/23</td>\n",
       "      <td>93</td>\n",
       "      <td>08/05/23</td>\n",
       "      <td>1</td>\n",
       "    </tr>\n",
       "  </tbody>\n",
       "</table>\n",
       "</div>"
      ],
      "text/plain": [
       "       song_name debut_date  peak_pos peak_date  wks_on_chrt\n",
       "0            OMG   01/28/23        74  02/18/23            6\n",
       "1      Super Shy   07/22/23        48  08/05/23            5\n",
       "2          Ditto   01/21/23        82  02/18/23            5\n",
       "3            ETA   08/05/23        81  08/05/23            1\n",
       "4  Cool With You   08/05/23        93  08/05/23            1"
      ]
     },
     "execution_count": 65,
     "metadata": {},
     "output_type": "execute_result"
    }
   ],
   "source": [
    "billboard_df = pd.read_csv(\"data/Hot 100.csv\")\n",
    "billboard_df.head()"
   ]
  },
  {
   "cell_type": "code",
   "execution_count": 67,
   "metadata": {
    "ExecuteTime": {
     "end_time": "2023-08-21T00:04:41.029092Z",
     "start_time": "2023-08-21T00:04:40.992888Z"
    }
   },
   "outputs": [
    {
     "data": {
      "text/html": [
       "<div>\n",
       "<style scoped>\n",
       "    .dataframe tbody tr th:only-of-type {\n",
       "        vertical-align: middle;\n",
       "    }\n",
       "\n",
       "    .dataframe tbody tr th {\n",
       "        vertical-align: top;\n",
       "    }\n",
       "\n",
       "    .dataframe thead th {\n",
       "        text-align: right;\n",
       "    }\n",
       "</style>\n",
       "<table border=\"1\" class=\"dataframe\">\n",
       "  <thead>\n",
       "    <tr style=\"text-align: right;\">\n",
       "      <th></th>\n",
       "      <th>Artist and Title</th>\n",
       "      <th>Wks</th>\n",
       "      <th>T10</th>\n",
       "      <th>Pk (x?)</th>\n",
       "      <th>PkStreams</th>\n",
       "      <th>Total</th>\n",
       "    </tr>\n",
       "  </thead>\n",
       "  <tbody>\n",
       "    <tr>\n",
       "      <th>0</th>\n",
       "      <td>OMG</td>\n",
       "      <td>33</td>\n",
       "      <td>NaN</td>\n",
       "      <td>14</td>\n",
       "      <td>21594175</td>\n",
       "      <td>449153930.0</td>\n",
       "    </tr>\n",
       "    <tr>\n",
       "      <th>1</th>\n",
       "      <td>Ditto</td>\n",
       "      <td>24</td>\n",
       "      <td>NaN</td>\n",
       "      <td>11</td>\n",
       "      <td>22350849</td>\n",
       "      <td>332840904.0</td>\n",
       "    </tr>\n",
       "    <tr>\n",
       "      <th>2</th>\n",
       "      <td>Hype Boy</td>\n",
       "      <td>25</td>\n",
       "      <td>NaN</td>\n",
       "      <td>78</td>\n",
       "      <td>10224730</td>\n",
       "      <td>205135593.0</td>\n",
       "    </tr>\n",
       "    <tr>\n",
       "      <th>3</th>\n",
       "      <td>Super Shy</td>\n",
       "      <td>6</td>\n",
       "      <td>1.0</td>\n",
       "      <td>9</td>\n",
       "      <td>28439942</td>\n",
       "      <td>140621929.0</td>\n",
       "    </tr>\n",
       "    <tr>\n",
       "      <th>4</th>\n",
       "      <td>New Jeans</td>\n",
       "      <td>6</td>\n",
       "      <td>NaN</td>\n",
       "      <td>34</td>\n",
       "      <td>14777089</td>\n",
       "      <td>64775454.0</td>\n",
       "    </tr>\n",
       "  </tbody>\n",
       "</table>\n",
       "</div>"
      ],
      "text/plain": [
       "  Artist and Title  Wks  T10  Pk (x?)  PkStreams        Total\n",
       "0              OMG   33  NaN       14   21594175  449153930.0\n",
       "1            Ditto   24  NaN       11   22350849  332840904.0\n",
       "2         Hype Boy   25  NaN       78   10224730  205135593.0\n",
       "3        Super Shy    6  1.0        9   28439942  140621929.0\n",
       "4        New Jeans    6  NaN       34   14777089   64775454.0"
      ]
     },
     "execution_count": 67,
     "metadata": {},
     "output_type": "execute_result"
    }
   ],
   "source": [
    "spotify_streaming_totals_df = pd.read_csv(\"data/spotify_streaming_totals.csv\")\n",
    "spotify_streaming_totals_df[\"Artist and Title\"] = spotify_streaming_totals_df[\"Artist and Title\"].apply(lambda x: x[x.index(\"-\")+1:])\n",
    "spotify_streaming_totals_df.head()"
   ]
  },
  {
   "cell_type": "code",
   "execution_count": null,
   "metadata": {},
   "outputs": [],
   "source": [
    "ax = plt.subplots()\n",
    "sns.barplot(\n",
    "    data=billboard_df,\n",
    "    x=song_name,\n",
    "    y=wks_on_chart\n",
    ")"
   ]
  }
 ],
 "metadata": {
  "hide_input": false,
  "kernelspec": {
   "display_name": "Python 3",
   "language": "python",
   "name": "python3"
  },
  "language_info": {
   "codemirror_mode": {
    "name": "ipython",
    "version": 3
   },
   "file_extension": ".py",
   "mimetype": "text/x-python",
   "name": "python",
   "nbconvert_exporter": "python",
   "pygments_lexer": "ipython3",
   "version": "3.8.6"
  },
  "toc": {
   "base_numbering": 1,
   "nav_menu": {},
   "number_sections": true,
   "sideBar": true,
   "skip_h1_title": false,
   "title_cell": "Table of Contents",
   "title_sidebar": "Contents",
   "toc_cell": false,
   "toc_position": {},
   "toc_section_display": true,
   "toc_window_display": false
  },
  "varInspector": {
   "cols": {
    "lenName": 16,
    "lenType": 16,
    "lenVar": 40
   },
   "kernels_config": {
    "python": {
     "delete_cmd_postfix": "",
     "delete_cmd_prefix": "del ",
     "library": "var_list.py",
     "varRefreshCmd": "print(var_dic_list())"
    },
    "r": {
     "delete_cmd_postfix": ") ",
     "delete_cmd_prefix": "rm(",
     "library": "var_list.r",
     "varRefreshCmd": "cat(var_dic_list()) "
    }
   },
   "types_to_exclude": [
    "module",
    "function",
    "builtin_function_or_method",
    "instance",
    "_Feature"
   ],
   "window_display": false
  }
 },
 "nbformat": 4,
 "nbformat_minor": 4
}
